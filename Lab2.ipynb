{
 "cells": [
  {
   "cell_type": "markdown",
   "metadata": {},
   "source": [
    "Task №1"
   ]
  },
  {
   "cell_type": "code",
   "execution_count": null,
   "metadata": {},
   "outputs": [],
   "source": [
    "# разбор переменных разных типов\n",
    "\n",
    "num1 = 10  # int (используется для хранения целых чисел без точных десятичных дробей.)\n",
    "num2 = 10.5  # float (используется для хранения чисел с точными десятичными дробями.)\n",
    "num3 = \"Hello\"  # str (используется для хранения текстовых данных.)\n",
    "num4 = [3, 4, 5]  # list (используется для хранения списка других переменных.)\n",
    "num5 = (1, 2, 3)  # tuple (используется для хранения списка других переменных, не изменяется.)\n",
    "num6 = {'key1': 3, 'key2': 4, 'key3': 5}  # dict (используется для хранения списка ключей и значений.)\n",
    "num7 = range(10)  # range (используется для создания списка чисел в заданном диапазоне.)\n",
    "num8 = None  # None (используется для обозначения отсутствия значения.)"
   ]
  },
  {
   "cell_type": "markdown",
   "metadata": {},
   "source": [
    "Task №2"
   ]
  },
  {
   "cell_type": "code",
   "execution_count": null,
   "metadata": {},
   "outputs": [],
   "source": [
    "# tuple + tuple\n",
    "num1 = (1, 2, 3)\n",
    "num2 = (4, 5, 6)\n",
    "\n",
    "num3 = num1 + num2\n",
    "print(num3)"
   ]
  },
  {
   "cell_type": "code",
   "execution_count": 1,
   "metadata": {},
   "outputs": [
    {
     "name": "stdout",
     "output_type": "stream",
     "text": [
      "20\n"
     ]
    }
   ],
   "source": [
    "# int + int\n",
    "num1 = 10\n",
    "num2 = 10\n",
    "num3 = num1 + num2\n",
    "print(num3)"
   ]
  },
  {
   "cell_type": "code",
   "execution_count": 2,
   "metadata": {},
   "outputs": [
    {
     "name": "stdout",
     "output_type": "stream",
     "text": [
      "28.2\n"
     ]
    }
   ],
   "source": [
    "# float + float\n",
    "num1 = 14.1\n",
    "num2 = 14.1\n",
    "num3 = num1 + num2\n",
    "print(num3)"
   ]
  },
  {
   "cell_type": "code",
   "execution_count": 4,
   "metadata": {},
   "outputs": [
    {
     "name": "stdout",
     "output_type": "stream",
     "text": [
      "24.1\n"
     ]
    }
   ],
   "source": [
    "# float + int\n",
    "num1 = 14.1 #    float\n",
    "num2 = 10 #     int\n",
    "num3 = num1 + num2\n",
    "print(num3)"
   ]
  },
  {
   "cell_type": "code",
   "execution_count": 15,
   "metadata": {},
   "outputs": [
    {
     "name": "stdout",
     "output_type": "stream",
     "text": [
      "25\n"
     ]
    }
   ],
   "source": [
    "l = [1, 2, 3, 4, 5] # list\n",
    "i =  10 # int\n",
    "\n",
    "s = sum(l) + i # возвращение суммы элементов списка и сложение с целочисленной переменной\n",
    "\n",
    "print(s)"
   ]
  },
  {
   "cell_type": "code",
   "execution_count": 17,
   "metadata": {},
   "outputs": [
    {
     "name": "stdout",
     "output_type": "stream",
     "text": [
      "2\n"
     ]
    }
   ],
   "source": [
    "# string + int\n",
    "num1 = \"1\"\n",
    "num2 = 1\n",
    "num3 = int(num1) + num2\n",
    "print(num3)"
   ]
  },
  {
   "cell_type": "code",
   "execution_count": 31,
   "metadata": {},
   "outputs": [
    {
     "name": "stdout",
     "output_type": "stream",
     "text": [
      "11\n"
     ]
    }
   ],
   "source": [
    "# int + boolean\n",
    "num1 = True\n",
    "num2 = 10\n",
    "num3 = num1 + 10\n",
    "print(num3)"
   ]
  },
  {
   "cell_type": "code",
   "execution_count": 41,
   "metadata": {},
   "outputs": [
    {
     "name": "stdout",
     "output_type": "stream",
     "text": [
      "1\n"
     ]
    }
   ],
   "source": [
    "# Boolean + Boolean\n",
    "num1 = False\n",
    "num2 = True\n",
    "num3 = num1 + num2\n",
    "print(num3)"
   ]
  },
  {
   "cell_type": "markdown",
   "metadata": {},
   "source": [
    "Task №3"
   ]
  },
  {
   "cell_type": "code",
   "execution_count": 45,
   "metadata": {},
   "outputs": [
    {
     "name": "stdout",
     "output_type": "stream",
     "text": [
      "(1, 2, 3)\n"
     ]
    }
   ],
   "source": [
    "# list to tuple\n",
    "num1 = [1, 2, 3]\n",
    "num2 = tuple(num1)\n",
    "print(num2)\n"
   ]
  },
  {
   "cell_type": "code",
   "execution_count": 46,
   "metadata": {},
   "outputs": [
    {
     "name": "stdout",
     "output_type": "stream",
     "text": [
      "123\n"
     ]
    }
   ],
   "source": [
    "# int to string\n",
    "num1 = 123\n",
    "num2 = str(num1)\n",
    "print(num2)"
   ]
  },
  {
   "cell_type": "code",
   "execution_count": 47,
   "metadata": {},
   "outputs": [
    {
     "name": "stdout",
     "output_type": "stream",
     "text": [
      "3\n"
     ]
    }
   ],
   "source": [
    "# float to int\n",
    "num1 = 3.14\n",
    "num2 = int(num1) # округление\n",
    "print(num2)"
   ]
  },
  {
   "cell_type": "code",
   "execution_count": 48,
   "metadata": {},
   "outputs": [
    {
     "name": "stdout",
     "output_type": "stream",
     "text": [
      "['hello', 'world!']\n"
     ]
    }
   ],
   "source": [
    "# list to strings\n",
    "num1 = \"hello world!\"\n",
    "num2 = num1.split()\n",
    "print(num2)"
   ]
  },
  {
   "cell_type": "markdown",
   "metadata": {},
   "source": [
    "Пепреопределение переменной одного типа в другой невозможно сделать только в том случае, если переменная уже инициализирована, её тип уже опрееделен ии он может измениться. Например если пользователь инициализирует переменную A как int() и затем у него будет код\n",
    "a = str(), то при компиляции код выдаст ошибку."
   ]
  }
 ],
 "metadata": {
  "kernelspec": {
   "display_name": "Python 3",
   "language": "python",
   "name": "python3"
  },
  "language_info": {
   "codemirror_mode": {
    "name": "ipython",
    "version": 3
   },
   "file_extension": ".py",
   "mimetype": "text/x-python",
   "name": "python",
   "nbconvert_exporter": "python",
   "pygments_lexer": "ipython3",
   "version": "3.12.0"
  }
 },
 "nbformat": 4,
 "nbformat_minor": 2
}
